{
 "cells": [
  {
   "cell_type": "code",
   "execution_count": 3,
   "id": "f118ead9-b70a-4c71-bf99-a4663bcbe000",
   "metadata": {},
   "outputs": [
    {
     "ename": "ModuleNotFoundError",
     "evalue": "No module named 'sklearn'",
     "output_type": "error",
     "traceback": [
      "\u001b[0;31m---------------------------------------------------------------------------\u001b[0m",
      "\u001b[0;31mModuleNotFoundError\u001b[0m                       Traceback (most recent call last)",
      "Cell \u001b[0;32mIn[3], line 5\u001b[0m\n\u001b[1;32m      3\u001b[0m \u001b[38;5;28;01mimport\u001b[39;00m\u001b[38;5;250m \u001b[39m\u001b[38;5;21;01mnumpy\u001b[39;00m\u001b[38;5;250m \u001b[39m\u001b[38;5;28;01mas\u001b[39;00m\u001b[38;5;250m \u001b[39m\u001b[38;5;21;01mnp\u001b[39;00m\n\u001b[1;32m      4\u001b[0m \u001b[38;5;28;01mimport\u001b[39;00m\u001b[38;5;250m \u001b[39m\u001b[38;5;21;01mmatplotlib\u001b[39;00m\u001b[38;5;21;01m.\u001b[39;00m\u001b[38;5;21;01mpyplot\u001b[39;00m\u001b[38;5;250m \u001b[39m\u001b[38;5;28;01mas\u001b[39;00m\u001b[38;5;250m \u001b[39m\u001b[38;5;21;01mplt\u001b[39;00m\n\u001b[0;32m----> 5\u001b[0m \u001b[38;5;28;01mfrom\u001b[39;00m\u001b[38;5;250m \u001b[39m\u001b[38;5;21;01msklearn\u001b[39;00m\u001b[38;5;21;01m.\u001b[39;00m\u001b[38;5;21;01mmodel_selection\u001b[39;00m\u001b[38;5;250m \u001b[39m\u001b[38;5;28;01mimport\u001b[39;00m train_test_split\n\u001b[1;32m      6\u001b[0m \u001b[38;5;28;01mfrom\u001b[39;00m\u001b[38;5;250m \u001b[39m\u001b[38;5;21;01msklearn\u001b[39;00m\u001b[38;5;21;01m.\u001b[39;00m\u001b[38;5;21;01mpreprocessing\u001b[39;00m\u001b[38;5;250m \u001b[39m\u001b[38;5;28;01mimport\u001b[39;00m StandardScaler\n\u001b[1;32m      7\u001b[0m \u001b[38;5;28;01mfrom\u001b[39;00m\u001b[38;5;250m \u001b[39m\u001b[38;5;21;01msklearn\u001b[39;00m\u001b[38;5;21;01m.\u001b[39;00m\u001b[38;5;21;01mmetrics\u001b[39;00m\u001b[38;5;250m \u001b[39m\u001b[38;5;28;01mimport\u001b[39;00m accuracy_score, confusion_matrix, classification_report\n",
      "\u001b[0;31mModuleNotFoundError\u001b[0m: No module named 'sklearn'"
     ]
    }
   ],
   "source": [
    "import pandas as pd\n",
    "import pandas as pd\n",
    "import numpy as np\n",
    "import matplotlib.pyplot as plt\n",
    "from sklearn.model_selection import train_test_split\n",
    "from sklearn.preprocessing import StandardScaler\n",
    "from sklearn.metrics import accuracy_score, confusion_matrix, classification_report"
   ]
  },
  {
   "cell_type": "code",
   "execution_count": 3,
   "id": "02f4a1cf-1816-4efc-89e9-0fc12ebc93f3",
   "metadata": {},
   "outputs": [],
   "source": [
    "df = pd.read_csv('loan_data_cleaned.csv')"
   ]
  },
  {
   "cell_type": "code",
   "execution_count": 5,
   "id": "89617314-a95e-491b-93a1-ba47208e4000",
   "metadata": {},
   "outputs": [],
   "source": [
    "# Feature 1: Credit risk adjusted by loan amount\n",
    "df['Credit_Loan_Ratio'] = df['Credit_History'] * df['Log_LoanAmount']\n",
    "\n",
    "# Feature 2: Socioeconomic stability\n",
    "df['Married_Educated'] = df['Married'] * df['Education']\n",
    "\n",
    "# Feature 3: Family burden indicator\n",
    "df['SelfEmp_Dependents'] = df['Self_Employed'] * df['Dependents']\n",
    "\n",
    "# Feature 4: Burden of EMI relative to income\n",
    "df['Term_Income_Ratio'] = df['Loan_Amount_Term'] / df['Log_Total_Income']\n",
    "\n",
    "# Feature 5: Bucket loan size\n",
    "# Safe binning: include lower edge and right-most value\n",
    "df['LoanAmount_Bin'] = pd.cut(\n",
    "    df['Log_LoanAmount'],\n",
    "    bins=[0, 3, 3.5, 5],\n",
    "    labels=[0, 1, 2],\n",
    "    include_lowest=True,\n",
    "    right=True\n",
    ")\n",
    "\n",
    "# Convert to int safely: fill NaNs first (optional strategy: fill with mode or -1)\n",
    "df['LoanAmount_Bin'] = df['LoanAmount_Bin'].astype(float)  # convert to float first\n",
    "df['LoanAmount_Bin'] = df['LoanAmount_Bin'].fillna(-1).astype(int)  # fill NaNs and cast to int\n",
    "\n"
   ]
  },
  {
   "cell_type": "code",
   "execution_count": 6,
   "id": "865b80c0-70b9-4df4-bffa-a22dc41e04e9",
   "metadata": {},
   "outputs": [],
   "source": [
    "# Drop target column and re-define X, y\n",
    "X = df.drop('Loan_Status', axis=1)\n",
    "y = df['Loan_Status']\n",
    "\n",
    "# Train-test split\n",
    "from sklearn.model_selection import train_test_split\n",
    "X_train, X_test, y_train, y_test = train_test_split(X, y, test_size=0.2, stratify=y, random_state=42)\n"
   ]
  },
  {
   "cell_type": "code",
   "execution_count": 7,
   "id": "91c98c16-4ef8-432a-b699-93257d923f44",
   "metadata": {},
   "outputs": [
    {
     "name": "stdout",
     "output_type": "stream",
     "text": [
      "CatBoost Results:\n",
      "              precision    recall  f1-score   support\n",
      "\n",
      "           0       0.85      0.61      0.71        38\n",
      "           1       0.84      0.95      0.90        85\n",
      "\n",
      "    accuracy                           0.85       123\n",
      "   macro avg       0.85      0.78      0.80       123\n",
      "weighted avg       0.85      0.85      0.84       123\n",
      "\n"
     ]
    }
   ],
   "source": [
    "from catboost import CatBoostClassifier\n",
    "from sklearn.metrics import classification_report\n",
    "\n",
    "cat_model = CatBoostClassifier(\n",
    "    iterations=300,\n",
    "    learning_rate=0.03,\n",
    "    depth=5,\n",
    "    class_weights=[2, 1],  # Give more weight to class 0\n",
    "    random_seed=42,\n",
    "    verbose=0\n",
    ")\n",
    "\n",
    "cat_model.fit(X_train, y_train)\n",
    "\n",
    "# Predict with threshold\n",
    "cat_proba = cat_model.predict_proba(X_test)[:, 1]\n",
    "cat_thresh = 0.36  # best threshold from your earlier tuning\n",
    "cat_pred = (cat_proba >= cat_thresh).astype(int)\n",
    "\n",
    "print(\"CatBoost Results:\")\n",
    "print(classification_report(y_test, cat_pred))\n"
   ]
  },
  {
   "cell_type": "code",
   "execution_count": 8,
   "id": "32e699e8-c8bf-44fc-98a5-bfcfba49e0a3",
   "metadata": {},
   "outputs": [
    {
     "name": "stdout",
     "output_type": "stream",
     "text": [
      "XGBoost Results:\n",
      "              precision    recall  f1-score   support\n",
      "\n",
      "           0       0.84      0.55      0.67        38\n",
      "           1       0.83      0.95      0.89        85\n",
      "\n",
      "    accuracy                           0.83       123\n",
      "   macro avg       0.83      0.75      0.78       123\n",
      "weighted avg       0.83      0.83      0.82       123\n",
      "\n"
     ]
    },
    {
     "name": "stderr",
     "output_type": "stream",
     "text": [
      "/opt/anaconda3/lib/python3.12/site-packages/xgboost/training.py:183: UserWarning: [15:59:54] WARNING: /Users/runner/work/xgboost/xgboost/src/learner.cc:738: \n",
      "Parameters: { \"use_label_encoder\" } are not used.\n",
      "\n",
      "  bst.update(dtrain, iteration=i, fobj=obj)\n"
     ]
    }
   ],
   "source": [
    "from xgboost import XGBClassifier\n",
    "\n",
    "xgb_model = XGBClassifier(\n",
    "    n_estimators=300,\n",
    "    max_depth=5,\n",
    "    learning_rate=0.03,\n",
    "    scale_pos_weight=43 / 80,  # class 0 / class 1\n",
    "    use_label_encoder=False,\n",
    "    eval_metric='logloss',\n",
    "    random_state=42\n",
    ")\n",
    "\n",
    "xgb_model.fit(X_train, y_train)\n",
    "\n",
    "xgb_proba = xgb_model.predict_proba(X_test)[:, 1]\n",
    "xgb_pred = (xgb_proba >= cat_thresh).astype(int)  # use same threshold\n",
    "\n",
    "print(\"XGBoost Results:\")\n",
    "print(classification_report(y_test, xgb_pred))"
   ]
  },
  {
   "cell_type": "code",
   "execution_count": 9,
   "id": "5aac9c76-cf5f-4f54-8187-a418cad12715",
   "metadata": {},
   "outputs": [
    {
     "name": "stdout",
     "output_type": "stream",
     "text": [
      "Ensemble Results:\n",
      "              precision    recall  f1-score   support\n",
      "\n",
      "           0       0.84      0.55      0.67        38\n",
      "           1       0.83      0.95      0.89        85\n",
      "\n",
      "    accuracy                           0.83       123\n",
      "   macro avg       0.83      0.75      0.78       123\n",
      "weighted avg       0.83      0.83      0.82       123\n",
      "\n"
     ]
    }
   ],
   "source": [
    "avg_proba = (cat_proba + xgb_proba) / 2\n",
    "ensemble_pred = (avg_proba >= cat_thresh).astype(int)\n",
    "\n",
    "print(\"Ensemble Results:\")\n",
    "print(classification_report(y_test, ensemble_pred))"
   ]
  },
  {
   "cell_type": "code",
   "execution_count": 16,
   "id": "0b040bdd-3e2a-4e93-8758-3cabe6011b0a",
   "metadata": {},
   "outputs": [
    {
     "data": {
      "text/plain": [
       "<sklearn.metrics._plot.confusion_matrix.ConfusionMatrixDisplay at 0x16d3d19d0>"
      ]
     },
     "execution_count": 16,
     "metadata": {},
     "output_type": "execute_result"
    },
    {
     "data": {
      "image/png": "[encoded data removed]",
      "text/plain": [
       "<Figure size 640x480 with 2 Axes>"
      ]
     },
     "metadata": {},
     "output_type": "display_data"
    }
   ],
   "source": [
    "from sklearn.metrics import confusion_matrix, ConfusionMatrixDisplay\n",
    "\n",
    "cm = confusion_matrix(y_test, cat_pred)\n",
    "ConfusionMatrixDisplay(cm).plot()\n"
   ]
  },
  {
   "cell_type": "code",
   "execution_count": 17,
   "id": "b20b4982-cd51-434c-a61b-ead40a83742d",
   "metadata": {},
   "outputs": [
    {
     "data": {
      "image/png": "[encoded data removed]",
      "text/plain": [
       "<Figure size 640x480 with 1 Axes>"
      ]
     },
     "metadata": {},
     "output_type": "display_data"
    }
   ],
   "source": [
    "from sklearn.metrics import roc_curve, roc_auc_score\n",
    "import matplotlib.pyplot as plt\n",
    "\n",
    "y_proba = model.predict_proba(X_test)[:, 1]\n",
    "fpr, tpr, _ = roc_curve(y_test, y_proba)\n",
    "\n",
    "plt.plot(fpr, tpr, label=f\"AUC = {roc_auc_score(y_test, y_proba):.2f}\")\n",
    "plt.plot([0, 1], [0, 1], linestyle='--')\n",
    "plt.xlabel(\"False Positive Rate\")\n",
    "plt.ylabel(\"True Positive Rate\")\n",
    "plt.title(\"ROC Curve\")\n",
    "plt.legend()\n",
    "plt.grid(True)\n",
    "plt.show()\n"
   ]
  },
  {
   "cell_type": "code",
   "execution_count": null,
   "id": "a8816e02-7cee-4a13-ba32-dd6012a6edd4",
   "metadata": {},
   "outputs": [],
   "source": []
  }
 ],
 "metadata": {
  "kernelspec": {
   "display_name": "Python 3",
   "language": "python",
   "name": "python3"
  },
  "language_info": {
   "codemirror_mode": {
    "name": "ipython",
    "version": 3
   },
   "file_extension": ".py",
   "mimetype": "text/x-python",
   "name": "python",
   "nbconvert_exporter": "python",
   "pygments_lexer": "ipython3",
   "version": "3.9.6"
  }
 },
 "nbformat": 4,
 "nbformat_minor": 5
}
